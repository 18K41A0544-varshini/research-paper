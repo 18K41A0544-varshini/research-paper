{
  "nbformat": 4,
  "nbformat_minor": 0,
  "metadata": {
    "colab": {
      "name": "Untitled",
      "provenance": [],
      "collapsed_sections": []
    },
    "kernelspec": {
      "name": "python3",
      "display_name": "Python 3"
    }
  },
  "cells": [
    {
      "cell_type": "code",
      "metadata": {
        "id": "xlVwNuipzYdU",
        "colab_type": "code",
        "colab": {
          "base_uri": "https://localhost:8080/",
          "height": 314
        },
        "outputId": "4883f704-f3e4-4814-f9fb-b057cca01faa"
      },
      "source": [
        "!pip install TSNE"
      ],
      "execution_count": 7,
      "outputs": [
        {
          "output_type": "stream",
          "text": [
            "Collecting TSNE\n",
            "\u001b[?25l  Downloading https://files.pythonhosted.org/packages/4c/ea/f4deb02eb49bbc7006624398d3909bbb43cd93efd58e66b74320b5530edd/tsne-0.3.1.tar.gz (547kB)\n",
            "\r\u001b[K     |▋                               | 10kB 19.7MB/s eta 0:00:01\r\u001b[K     |█▏                              | 20kB 6.3MB/s eta 0:00:01\r\u001b[K     |█▉                              | 30kB 7.5MB/s eta 0:00:01\r\u001b[K     |██▍                             | 40kB 8.4MB/s eta 0:00:01\r\u001b[K     |███                             | 51kB 6.6MB/s eta 0:00:01\r\u001b[K     |███▋                            | 61kB 7.1MB/s eta 0:00:01\r\u001b[K     |████▏                           | 71kB 7.6MB/s eta 0:00:01\r\u001b[K     |████▉                           | 81kB 8.4MB/s eta 0:00:01\r\u001b[K     |█████▍                          | 92kB 8.6MB/s eta 0:00:01\r\u001b[K     |██████                          | 102kB 9.1MB/s eta 0:00:01\r\u001b[K     |██████▋                         | 112kB 9.1MB/s eta 0:00:01\r\u001b[K     |███████▏                        | 122kB 9.1MB/s eta 0:00:01\r\u001b[K     |███████▉                        | 133kB 9.1MB/s eta 0:00:01\r\u001b[K     |████████▍                       | 143kB 9.1MB/s eta 0:00:01\r\u001b[K     |█████████                       | 153kB 9.1MB/s eta 0:00:01\r\u001b[K     |█████████▋                      | 163kB 9.1MB/s eta 0:00:01\r\u001b[K     |██████████▏                     | 174kB 9.1MB/s eta 0:00:01\r\u001b[K     |██████████▊                     | 184kB 9.1MB/s eta 0:00:01\r\u001b[K     |███████████▍                    | 194kB 9.1MB/s eta 0:00:01\r\u001b[K     |████████████                    | 204kB 9.1MB/s eta 0:00:01\r\u001b[K     |████████████▋                   | 215kB 9.1MB/s eta 0:00:01\r\u001b[K     |█████████████▏                  | 225kB 9.1MB/s eta 0:00:01\r\u001b[K     |█████████████▊                  | 235kB 9.1MB/s eta 0:00:01\r\u001b[K     |██████████████▍                 | 245kB 9.1MB/s eta 0:00:01\r\u001b[K     |███████████████                 | 256kB 9.1MB/s eta 0:00:01\r\u001b[K     |███████████████▋                | 266kB 9.1MB/s eta 0:00:01\r\u001b[K     |████████████████▏               | 276kB 9.1MB/s eta 0:00:01\r\u001b[K     |████████████████▊               | 286kB 9.1MB/s eta 0:00:01\r\u001b[K     |█████████████████▍              | 296kB 9.1MB/s eta 0:00:01\r\u001b[K     |██████████████████              | 307kB 9.1MB/s eta 0:00:01\r\u001b[K     |██████████████████▌             | 317kB 9.1MB/s eta 0:00:01\r\u001b[K     |███████████████████▏            | 327kB 9.1MB/s eta 0:00:01\r\u001b[K     |███████████████████▊            | 337kB 9.1MB/s eta 0:00:01\r\u001b[K     |████████████████████▍           | 348kB 9.1MB/s eta 0:00:01\r\u001b[K     |█████████████████████           | 358kB 9.1MB/s eta 0:00:01\r\u001b[K     |█████████████████████▌          | 368kB 9.1MB/s eta 0:00:01\r\u001b[K     |██████████████████████▏         | 378kB 9.1MB/s eta 0:00:01\r\u001b[K     |██████████████████████▊         | 389kB 9.1MB/s eta 0:00:01\r\u001b[K     |███████████████████████▍        | 399kB 9.1MB/s eta 0:00:01\r\u001b[K     |████████████████████████        | 409kB 9.1MB/s eta 0:00:01\r\u001b[K     |████████████████████████▌       | 419kB 9.1MB/s eta 0:00:01\r\u001b[K     |█████████████████████████▏      | 430kB 9.1MB/s eta 0:00:01\r\u001b[K     |█████████████████████████▊      | 440kB 9.1MB/s eta 0:00:01\r\u001b[K     |██████████████████████████▎     | 450kB 9.1MB/s eta 0:00:01\r\u001b[K     |███████████████████████████     | 460kB 9.1MB/s eta 0:00:01\r\u001b[K     |███████████████████████████▌    | 471kB 9.1MB/s eta 0:00:01\r\u001b[K     |████████████████████████████▏   | 481kB 9.1MB/s eta 0:00:01\r\u001b[K     |████████████████████████████▊   | 491kB 9.1MB/s eta 0:00:01\r\u001b[K     |█████████████████████████████▎  | 501kB 9.1MB/s eta 0:00:01\r\u001b[K     |██████████████████████████████  | 512kB 9.1MB/s eta 0:00:01\r\u001b[K     |██████████████████████████████▌ | 522kB 9.1MB/s eta 0:00:01\r\u001b[K     |███████████████████████████████▏| 532kB 9.1MB/s eta 0:00:01\r\u001b[K     |███████████████████████████████▊| 542kB 9.1MB/s eta 0:00:01\r\u001b[K     |████████████████████████████████| 552kB 9.1MB/s \n",
            "\u001b[?25h  Installing build dependencies ... \u001b[?25l\u001b[?25hdone\n",
            "  Getting requirements to build wheel ... \u001b[?25l\u001b[?25hdone\n",
            "    Preparing wheel metadata ... \u001b[?25l\u001b[?25hdone\n",
            "Requirement already satisfied: numpy>=1.7.1 in /usr/local/lib/python3.6/dist-packages (from TSNE) (1.18.5)\n",
            "Requirement already satisfied: scipy>=0.12.0 in /usr/local/lib/python3.6/dist-packages (from TSNE) (1.4.1)\n",
            "Requirement already satisfied: cython>=0.19.1 in /usr/local/lib/python3.6/dist-packages (from TSNE) (0.29.21)\n",
            "Building wheels for collected packages: TSNE\n",
            "  Building wheel for TSNE (PEP 517) ... \u001b[?25l\u001b[?25hdone\n",
            "  Created wheel for TSNE: filename=tsne-0.3.1-cp36-cp36m-linux_x86_64.whl size=260995 sha256=10ffa172453806e962761b959733b8766b45bcdc81039320224c1cae803242b0\n",
            "  Stored in directory: /root/.cache/pip/wheels/3e/d6/fc/58392f18ea8fc4c74e20185d2faeee87a1c1924a182606c6cd\n",
            "Successfully built TSNE\n",
            "Installing collected packages: TSNE\n",
            "Successfully installed TSNE-0.3.1\n"
          ],
          "name": "stdout"
        }
      ]
    },
    {
      "cell_type": "code",
      "metadata": {
        "id": "bA3itolz0mHS",
        "colab_type": "code",
        "colab": {}
      },
      "source": [
        "import numpy as np\n"
      ],
      "execution_count": 14,
      "outputs": []
    },
    {
      "cell_type": "code",
      "metadata": {
        "id": "OlgV5MVU1Vxr",
        "colab_type": "code",
        "colab": {}
      },
      "source": [
        "import sklearn\n",
        "from sklearn.manifold import TSNE\n",
        "import matplotlib.pyplot as plt "
      ],
      "execution_count": 19,
      "outputs": []
    },
    {
      "cell_type": "code",
      "metadata": {
        "id": "OeJepP4-1oWI",
        "colab_type": "code",
        "colab": {
          "base_uri": "https://localhost:8080/",
          "height": 54
        },
        "outputId": "0888cd72-002d-4e7a-b7d2-14bcb37cbef8"
      },
      "source": [
        "import gensim.downloader as api\n",
        "word2vec_model = api.load('word2vec-google-news-300') "
      ],
      "execution_count": 20,
      "outputs": [
        {
          "output_type": "stream",
          "text": [
            "[==================================----------------] 69.0% 1146.8/1662.8MB downloadedBuffered data was truncated after reaching the output size limit."
          ],
          "name": "stdout"
        }
      ]
    },
    {
      "cell_type": "code",
      "metadata": {
        "id": "q2SgMwnr3kGb",
        "colab_type": "code",
        "colab": {
          "base_uri": "https://localhost:8080/",
          "height": 1000
        },
        "outputId": "5ac61f54-b636-49d5-a3a0-2bcc7d8ca6f2"
      },
      "source": [
        "word2vec_model[\"beautiful\"] "
      ],
      "execution_count": 21,
      "outputs": [
        {
          "output_type": "execute_result",
          "data": {
            "text/plain": [
              "array([-0.01831055,  0.05566406, -0.01153564,  0.07275391,  0.15136719,\n",
              "       -0.06176758,  0.20605469, -0.15332031, -0.05908203,  0.22851562,\n",
              "       -0.06445312, -0.22851562, -0.09472656, -0.03344727,  0.24707031,\n",
              "        0.05541992, -0.00921631,  0.1328125 , -0.15429688,  0.08105469,\n",
              "       -0.07373047,  0.24316406,  0.12353516, -0.09277344,  0.08203125,\n",
              "        0.06494141,  0.15722656,  0.11279297, -0.0612793 , -0.296875  ,\n",
              "       -0.13378906,  0.234375  ,  0.09765625,  0.17773438,  0.06689453,\n",
              "       -0.27539062,  0.06445312, -0.13867188, -0.08886719,  0.171875  ,\n",
              "        0.07861328, -0.10058594,  0.23925781,  0.03808594,  0.18652344,\n",
              "       -0.11279297,  0.22558594,  0.10986328, -0.11865234,  0.02026367,\n",
              "        0.11376953,  0.09570312,  0.29492188,  0.08251953, -0.05444336,\n",
              "       -0.0090332 , -0.0625    , -0.17578125, -0.08154297,  0.01062012,\n",
              "       -0.04736328, -0.08544922, -0.19042969, -0.30273438,  0.07617188,\n",
              "        0.125     , -0.05932617,  0.03833008, -0.03564453,  0.2421875 ,\n",
              "        0.36132812,  0.04760742,  0.00631714, -0.03088379, -0.13964844,\n",
              "        0.22558594, -0.06298828, -0.02636719,  0.1171875 ,  0.33398438,\n",
              "       -0.07666016, -0.06689453,  0.04150391, -0.15136719, -0.22460938,\n",
              "        0.03320312, -0.15332031,  0.07128906,  0.16992188,  0.11572266,\n",
              "       -0.13085938,  0.12451172, -0.20410156,  0.04736328, -0.296875  ,\n",
              "       -0.17480469,  0.00872803, -0.04638672,  0.10791016, -0.203125  ,\n",
              "       -0.27539062,  0.2734375 ,  0.02563477, -0.11035156,  0.0625    ,\n",
              "        0.1953125 ,  0.16015625, -0.13769531, -0.09863281, -0.1953125 ,\n",
              "       -0.22851562,  0.25390625,  0.00915527, -0.03857422,  0.3984375 ,\n",
              "       -0.1796875 ,  0.03833008, -0.24804688,  0.03515625,  0.03881836,\n",
              "        0.03442383, -0.04101562,  0.20214844, -0.03015137, -0.09619141,\n",
              "        0.11669922, -0.06738281,  0.0625    ,  0.10742188,  0.25585938,\n",
              "       -0.21777344,  0.05639648, -0.0065918 ,  0.16113281,  0.11865234,\n",
              "       -0.03088379, -0.11572266,  0.02685547,  0.03100586,  0.09863281,\n",
              "        0.05883789,  0.00634766,  0.11914062,  0.07324219, -0.01586914,\n",
              "        0.18457031,  0.05322266,  0.19824219, -0.22363281, -0.25195312,\n",
              "        0.15039062,  0.22753906,  0.05737305,  0.16992188, -0.22558594,\n",
              "        0.06494141,  0.11914062, -0.06640625, -0.10449219, -0.07226562,\n",
              "       -0.16992188,  0.0625    ,  0.14648438,  0.27148438, -0.02172852,\n",
              "       -0.12695312,  0.18457031, -0.27539062, -0.36523438, -0.03491211,\n",
              "       -0.18554688,  0.23828125, -0.13867188,  0.00296021,  0.04272461,\n",
              "        0.13867188,  0.12207031,  0.05957031, -0.22167969, -0.18945312,\n",
              "       -0.23242188, -0.28710938, -0.00866699, -0.16113281, -0.24316406,\n",
              "        0.05712891, -0.06982422,  0.00053406, -0.10302734, -0.13378906,\n",
              "       -0.16113281,  0.11621094,  0.31640625, -0.02697754, -0.01574707,\n",
              "        0.11425781, -0.04174805,  0.05908203,  0.02661133, -0.08642578,\n",
              "        0.140625  ,  0.09228516, -0.25195312, -0.31445312, -0.05688477,\n",
              "        0.01031494,  0.0234375 , -0.02331543, -0.08056641,  0.01269531,\n",
              "       -0.34179688,  0.17285156, -0.16015625,  0.07763672, -0.03088379,\n",
              "        0.11962891,  0.11767578,  0.20117188, -0.01940918,  0.02172852,\n",
              "        0.23046875,  0.28125   , -0.17675781,  0.02978516,  0.08740234,\n",
              "       -0.06176758,  0.00939941, -0.09277344, -0.203125  ,  0.13085938,\n",
              "       -0.13671875, -0.00500488, -0.04296875,  0.12988281,  0.3515625 ,\n",
              "        0.0402832 , -0.12988281, -0.03173828,  0.28515625,  0.18261719,\n",
              "        0.13867188, -0.16503906, -0.26171875, -0.04345703,  0.0100708 ,\n",
              "        0.08740234,  0.00421143, -0.1328125 , -0.17578125, -0.04321289,\n",
              "       -0.015625  ,  0.16894531,  0.25      ,  0.37109375,  0.19921875,\n",
              "       -0.36132812, -0.10302734, -0.20800781, -0.20117188, -0.01519775,\n",
              "       -0.12207031, -0.12011719, -0.07421875, -0.04345703,  0.14160156,\n",
              "        0.15527344, -0.03027344, -0.09326172, -0.04589844,  0.16796875,\n",
              "       -0.03027344,  0.09179688, -0.10058594,  0.20703125,  0.11376953,\n",
              "       -0.12402344,  0.04003906,  0.06933594, -0.34570312,  0.03881836,\n",
              "        0.16210938,  0.05761719, -0.12792969, -0.05810547,  0.03857422,\n",
              "       -0.11328125, -0.1953125 , -0.28125   , -0.13183594,  0.15722656,\n",
              "       -0.09765625,  0.09619141, -0.09960938, -0.00285339, -0.03637695,\n",
              "        0.15429688,  0.06152344, -0.34570312,  0.11083984,  0.03344727],\n",
              "      dtype=float32)"
            ]
          },
          "metadata": {
            "tags": []
          },
          "execution_count": 21
        }
      ]
    },
    {
      "cell_type": "code",
      "metadata": {
        "id": "E2g84fu63pEL",
        "colab_type": "code",
        "colab": {
          "base_uri": "https://localhost:8080/",
          "height": 244
        },
        "outputId": "703dc914-c90f-4108-ea30-63be42646230"
      },
      "source": [
        "word2vec_model.most_similar(\"girl\") \n"
      ],
      "execution_count": 22,
      "outputs": [
        {
          "output_type": "stream",
          "text": [
            "/usr/local/lib/python3.6/dist-packages/gensim/matutils.py:737: FutureWarning: Conversion of the second argument of issubdtype from `int` to `np.signedinteger` is deprecated. In future, it will be treated as `np.int64 == np.dtype(int).type`.\n",
            "  if np.issubdtype(vec.dtype, np.int):\n"
          ],
          "name": "stderr"
        },
        {
          "output_type": "execute_result",
          "data": {
            "text/plain": [
              "[('boy', 0.8543272018432617),\n",
              " ('teenage_girl', 0.7927976250648499),\n",
              " ('woman', 0.7494640946388245),\n",
              " ('teenager', 0.717249870300293),\n",
              " ('schoolgirl', 0.7075953483581543),\n",
              " ('teenaged_girl', 0.6650916337966919),\n",
              " ('daughter', 0.6489864587783813),\n",
              " ('mother', 0.6478164196014404),\n",
              " ('toddler', 0.6473966836929321),\n",
              " ('girls', 0.6154742240905762)]"
            ]
          },
          "metadata": {
            "tags": []
          },
          "execution_count": 22
        }
      ]
    },
    {
      "cell_type": "code",
      "metadata": {
        "id": "L6tuWzlM358L",
        "colab_type": "code",
        "colab": {
          "base_uri": "https://localhost:8080/",
          "height": 89
        },
        "outputId": "159d5c72-c309-40e3-e4d8-4327dc0f94f1"
      },
      "source": [
        "word2vec_model.most_similar(positive=['boy', 'queen'], negative=['girl'], topn=1) "
      ],
      "execution_count": 23,
      "outputs": [
        {
          "output_type": "stream",
          "text": [
            "/usr/local/lib/python3.6/dist-packages/gensim/matutils.py:737: FutureWarning: Conversion of the second argument of issubdtype from `int` to `np.signedinteger` is deprecated. In future, it will be treated as `np.int64 == np.dtype(int).type`.\n",
            "  if np.issubdtype(vec.dtype, np.int):\n"
          ],
          "name": "stderr"
        },
        {
          "output_type": "execute_result",
          "data": {
            "text/plain": [
              "[('king', 0.7298422455787659)]"
            ]
          },
          "metadata": {
            "tags": []
          },
          "execution_count": 23
        }
      ]
    },
    {
      "cell_type": "code",
      "metadata": {
        "id": "iyvN9pOi4Oza",
        "colab_type": "code",
        "colab": {
          "base_uri": "https://localhost:8080/",
          "height": 235
        },
        "outputId": "e247c84b-fd0f-47ac-ea78-70c488284ee8"
      },
      "source": [
        "vocab = [\"boy\", \"girl\", \"man\", \"woman\", \"king\", \"queen\", \"banana\", \"apple\", \"mango\", \"fruit\", \"coconut\", \"orange\"] \n",
        "def tsne_plot(model):\n",
        "  wordvecs= [] \n",
        "  labels = []\n",
        "  \n",
        "for word in vocab: \n",
        "      labels.append(word) \n",
        "      wordvecs.append(model[word]) \n",
        "      \n",
        "      tsne_model = TSNE(perplexity=3, n_components=2, init='pca', random_state=42) \n",
        "      coordinates = tsne_model.fit_transform(wordvecs) \n",
        "      x = []\n",
        "      y = []\n",
        "for value in coordinates:\n",
        "     x.append(value[0])\n",
        "     y.append(value[1])\n",
        "     plt.figure(figsize=(8,8)) \n",
        "for i in range(len(x)):\n",
        "     plt.scatter(x[i],y[i])\n",
        "     plt.annotate(labels[i], xy=(x[i], y[i]), xytext=(2, 2), textcoords='offset points', ha='right', va='bottom') \n",
        "     plt.show()\n",
        "tsne_plot(word2vec_model)"
      ],
      "execution_count": 37,
      "outputs": [
        {
          "output_type": "error",
          "ename": "NameError",
          "evalue": "ignored",
          "traceback": [
            "\u001b[0;31m---------------------------------------------------------------------------\u001b[0m",
            "\u001b[0;31mNameError\u001b[0m                                 Traceback (most recent call last)",
            "\u001b[0;32m<ipython-input-37-8e984ae02a46>\u001b[0m in \u001b[0;36m<module>\u001b[0;34m()\u001b[0m\n\u001b[1;32m      5\u001b[0m \u001b[0;34m\u001b[0m\u001b[0m\n\u001b[1;32m      6\u001b[0m \u001b[0;32mfor\u001b[0m \u001b[0mword\u001b[0m \u001b[0;32min\u001b[0m \u001b[0mvocab\u001b[0m\u001b[0;34m:\u001b[0m\u001b[0;34m\u001b[0m\u001b[0;34m\u001b[0m\u001b[0m\n\u001b[0;32m----> 7\u001b[0;31m       \u001b[0mlabels\u001b[0m\u001b[0;34m.\u001b[0m\u001b[0mappend\u001b[0m\u001b[0;34m(\u001b[0m\u001b[0mword\u001b[0m\u001b[0;34m)\u001b[0m\u001b[0;34m\u001b[0m\u001b[0;34m\u001b[0m\u001b[0m\n\u001b[0m\u001b[1;32m      8\u001b[0m       \u001b[0mwordvecs\u001b[0m\u001b[0;34m.\u001b[0m\u001b[0mappend\u001b[0m\u001b[0;34m(\u001b[0m\u001b[0mmodel\u001b[0m\u001b[0;34m[\u001b[0m\u001b[0mword\u001b[0m\u001b[0;34m]\u001b[0m\u001b[0;34m)\u001b[0m\u001b[0;34m\u001b[0m\u001b[0;34m\u001b[0m\u001b[0m\n\u001b[1;32m      9\u001b[0m \u001b[0;34m\u001b[0m\u001b[0m\n",
            "\u001b[0;31mNameError\u001b[0m: name 'labels' is not defined"
          ]
        }
      ]
    }
  ]
}